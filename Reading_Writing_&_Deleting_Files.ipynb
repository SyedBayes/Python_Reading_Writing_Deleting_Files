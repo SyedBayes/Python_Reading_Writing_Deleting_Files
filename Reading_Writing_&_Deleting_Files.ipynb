{
  "nbformat": 4,
  "nbformat_minor": 0,
  "metadata": {
    "colab": {
      "provenance": []
    },
    "kernelspec": {
      "name": "python3",
      "display_name": "Python 3"
    },
    "language_info": {
      "name": "python"
    }
  },
  "cells": [
    {
      "cell_type": "markdown",
      "source": [
        "**Reading From Files**"
      ],
      "metadata": {
        "id": "V55uN6jOExMD"
      }
    },
    {
      "cell_type": "code",
      "source": [
        "f = open(\"demo.txt\", 'r') #if the file is in another drive then just copy the path and paste in \"demo.txt\" // #'r' represents READ\n",
        "print(f.read())\n",
        "print(f.close()) #this means closing the file. Its a good practice to close the file after all the works"
      ],
      "metadata": {
        "id": "TcVhO2RjE6F2"
      },
      "execution_count": null,
      "outputs": []
    },
    {
      "cell_type": "markdown",
      "source": [
        "**Reading Part of a File**"
      ],
      "metadata": {
        "id": "9zK5K46HFKgC"
      }
    },
    {
      "cell_type": "code",
      "source": [
        "f = open(\"demo.txt\", 'r')\n",
        "print(f.read(20))   #20, 15 or 70 whatever this means total 20/15/70 characters will be printed\n",
        "print(f.readline()) #this means first line will be printed, if I write again print(f.readline()) then 2nd line will be printed"
      ],
      "metadata": {
        "id": "N99f84GjFPcF"
      },
      "execution_count": null,
      "outputs": []
    },
    {
      "cell_type": "markdown",
      "source": [
        "**Writing to an Existing File**"
      ],
      "metadata": {
        "id": "F9EIXRjWMHP4"
      }
    },
    {
      "cell_type": "code",
      "source": [
        "f = open(\"demo.txt\", 'a') # 'a' means append to a file. adds something to the existing file with append\n",
        "f = open(\"demo.txt\", 'w') # 'w' means overwriting everything in the file and replace everything with something. \n",
        "f.write(\"Something\")\n",
        "print(f.close())"
      ],
      "metadata": {
        "id": "7Gn7tGKdMJ4e"
      },
      "execution_count": null,
      "outputs": []
    },
    {
      "cell_type": "markdown",
      "source": [
        "**Creating a File**"
      ],
      "metadata": {
        "id": "EtQpqqcTPNcf"
      }
    },
    {
      "cell_type": "code",
      "source": [
        "f = open(\"demo2.txt\", 'x') #'x' is used to create a file. A new empty file has been created\n"
      ],
      "metadata": {
        "id": "Bee9Sfn-PQO1"
      },
      "execution_count": null,
      "outputs": []
    },
    {
      "cell_type": "markdown",
      "source": [
        "**Deleting a File**"
      ],
      "metadata": {
        "id": "Lm98tJZNQAzH"
      }
    },
    {
      "cell_type": "code",
      "source": [
        "import os\n",
        "os.remove (\"demo.txt\")"
      ],
      "metadata": {
        "id": "UmOdFdNFQDHt"
      },
      "execution_count": null,
      "outputs": []
    },
    {
      "cell_type": "markdown",
      "source": [
        "**Delete File | Check Existence**"
      ],
      "metadata": {
        "id": "IXwJCzsCQxVA"
      }
    },
    {
      "cell_type": "code",
      "source": [
        "import os\n",
        "\n",
        "if os.path.exists(\"demo.txt\"):\n",
        "  os.remove(\"demo.txt\")\n",
        "else: \n",
        "  print (\"This file doesn't exist\")"
      ],
      "metadata": {
        "id": "ZQtm60T3Q2SL"
      },
      "execution_count": null,
      "outputs": []
    },
    {
      "cell_type": "markdown",
      "source": [
        "**Delete a Folder**"
      ],
      "metadata": {
        "id": "-q2DJ4RjRVxi"
      }
    },
    {
      "cell_type": "code",
      "source": [
        "import os\n",
        "os.rmdir(\"Folder Name\")"
      ],
      "metadata": {
        "id": "MpzttiujRX_-"
      },
      "execution_count": null,
      "outputs": []
    }
  ]
}